{
 "cells": [
  {
   "cell_type": "code",
   "execution_count": 1,
   "metadata": {
    "collapsed": true
   },
   "outputs": [],
   "source": [
    "import numpy as np\n",
    "import pandas as pd\n",
    "import seaborn as sns\n",
    "from subprocess import check_output"
   ]
  },
  {
   "cell_type": "code",
   "execution_count": null,
   "metadata": {
    "collapsed": true
   },
   "outputs": [],
   "source": [
    "dest = pd.read_csv(\"destinations.csv\")\n",
    "te = pd.read_csv(\"test.csv\")\n",
    "tr = pd.read_csv(\"train.csv\")\n",
    "tr[\"date_time\"] = pd.to_datetime(tr[\"date_time\"])\n",
    "tr[\"year\"] = tr[\"date_time\"].dt.year\n",
    "tr[\"month\"] = tr[\"date_time\"].dt.month"
   ]
  },
  {
   "cell_type": "code",
   "execution_count": null,
   "metadata": {
    "collapsed": true
   },
   "outputs": [],
   "source": [
    "from sklearn.decomposition import PCA\n",
    "\n",
    "pca = PCA(n_components=3)\n",
    "dest_pca = pca.fit_transform(dest[[\"d{0}\".format(i + 1) for i in range(149)]])\n",
    "dest_pca = pd.DataFrame(dest_pca)\n",
    "dest_pca[\"srch_destination_id\"] = dest[\"srch_destination_id\"]\n",
    "d1=tr\n",
    "d2=te\n",
    "df=d1\n",
    "df[\"srch_ci\"] = pd.to_datetime(df[\"srch_ci\"], format='%Y-%m-%d', errors=\"coerce\")\n",
    "df[\"srch_co\"] = pd.to_datetime(df[\"srch_co\"], format='%Y-%m-%d', errors=\"coerce\")\n",
    "features = {}\n",
    "for property in [\"month\", \"day\", \"hour\", \"minute\", \"dayofweek\", \"quarter\"]:\n",
    "    features[property] = getattr(df[\"date_time\"].dt, property)\n",
    "\n",
    "\n",
    "c = [f for f in df.columns if f not in [\"date_time\", \"srch_ci\", \"srch_co\"]]\n",
    "for property in c:\n",
    "    features[property] = df[property]"
   ]
  },
  {
   "cell_type": "code",
   "execution_count": null,
   "metadata": {
    "collapsed": true
   },
   "outputs": [],
   "source": [
    "time_prop = [\"month\", \"day\", \"dayofweek\", \"quarter\"]\n",
    "for property in time_prop:\n",
    "    features[\"ci_{0}\".format(property)] = getattr(df[\"srch_ci\"].dt, property)\n",
    "    features[\"co_{0}\".format(property)] = getattr(df[\"srch_co\"].dt, property)\n",
    "features[\"stay_time\"] = (df[\"srch_co\"] - df[\"srch_ci\"]).astype('timedelta64[h]')\n",
    "r = pd.DataFrame(features)\n",
    "r = r.join(dest_pca, on=\"srch_destination_id\", how='left', rsuffix=\"dest\")\n",
    "r = r.drop(\"srch_destination_iddest\", axis=1)\n",
    "d1 = df"
   ]
  },
  {
   "cell_type": "code",
   "execution_count": null,
   "metadata": {
    "collapsed": true
   },
   "outputs": [],
   "source": [
    "def new_feature(items):\n",
    "    return \"_\".join([str(i) for i in items])\n",
    "\n",
    "\n",
    "match_f = [\"srch_destination_id\"]\n",
    "clust = match_f + ['hotel_cluster']\n",
    "groups = d1.groupby(clust)\n",
    "result = {}\n",
    "for user, grp in groups:\n",
    "    clk = len(grp.is_booking[grp.is_booking == False])\n",
    "    bookings = len(grp.is_booking[grp.is_booking == True])\n",
    "\n",
    "    scores = bookings + .15 * clk\n",
    "\n",
    "    clus_name = new_feature(user[:len(match_f)])\n",
    "    if clus_name not in result:\n",
    "        result[clus_name] = {}\n",
    "    result[clus_name][user[-1]] = scores"
   ]
  },
  {
   "cell_type": "code",
   "execution_count": null,
   "metadata": {
    "collapsed": true
   },
   "outputs": [],
   "source": [
    "import operator\n",
    "\n",
    "cluster_result = {}\n",
    "for n in result:\n",
    "    tw = result[n]\n",
    "    tp = [l[0] for l in sorted(tw.items(), key=operator.itemgetter(1), reverse=True)[:5]]\n",
    "    cluster_result[n] = tp\n",
    "\n",
    "prediction = []\n",
    "for t, users in d2.iterrows():\n",
    "    hotel_cluster = new_feature([users[m] for m in match_f])\n",
    "    if hotel_cluster in cluster_result:\n",
    "        prediction.append(cluster_result[hotel_cluster])\n",
    "    else:\n",
    "        prediction.append([])\n"
   ]
  },
  {
   "cell_type": "code",
   "execution_count": null,
   "metadata": {
    "collapsed": true
   },
   "outputs": [],
   "source": [
    "match_f = ['user_location_country', 'user_location_region', 'user_location_city', 'hotel_market',\n",
    "              'orig_destination_distance']\n",
    "\n",
    "groups = d1.groupby(match_f)\n",
    "\n",
    "\n",
    "def generate_match(row, match_cols):\n",
    "    users = tuple([row[t] for t in match_cols])\n",
    "    group = groups.get_group(users)\n",
    "    \n",
    "    hotel_clusters = list(set(group.hotel_cluster))\n",
    "    return hotel_clusters\n",
    "\n",
    "\n",
    "match_result = []\n",
    "for i in range(d2.shape[0]):\n",
    "    match_result.append(generate_match(d2.iloc[i], match_f))"
   ]
  },
  {
   "cell_type": "code",
   "execution_count": null,
   "metadata": {
    "collapsed": true
   },
   "outputs": [],
   "source": [
    "popular_hotel = list(tr.hotel_cluster.value_counts().head().index)\n",
    "def f5(seq, idfun=None):\n",
    "    if idfun is None:\n",
    "        def idfun(x): return x\n",
    "    seen = {}\n",
    "    result = []\n",
    "    for item in seq:\n",
    "        marker = idfun(item)\n",
    "        if marker in seen: continue\n",
    "        seen[marker] = 1\n",
    "        result.append(item)\n",
    "    return result"
   ]
  },
  {
   "cell_type": "code",
   "execution_count": null,
   "metadata": {
    "collapsed": true
   },
   "outputs": [],
   "source": [
    "final_prediction = [f5(match_result[p] + prediction[p] + popular_hotel)[:5] for p in range(len(prediction))]"
   ]
  },
  {
   "cell_type": "code",
   "execution_count": null,
   "metadata": {
    "collapsed": true
   },
   "outputs": [],
   "source": [
    "from pandas.core.frame import DataFrame\n",
    "final_preds=DataFrame(final_prediction)\n",
    "final_preds.head()\n",
    "\n",
    "final_preds.to_csv('predict_2.csv', header=True, index_label='id')\n",
    "\n",
    "write_ = [\" \".join([str(l) for l in p]) for p in final_prediction]\n",
    "\n",
    "final_result=DataFrame(write_, columns=[\"hotel_cluster\"])\n",
    "final_result.head()\n",
    "\n",
    "final_result.to_csv('result.csv', header=True, index_label='id')"
   ]
  }
 ],
 "metadata": {
  "kernelspec": {
   "display_name": "Python 3",
   "language": "python",
   "name": "python3"
  },
  "language_info": {
   "codemirror_mode": {
    "name": "ipython",
    "version": 3
   },
   "file_extension": ".py",
   "mimetype": "text/x-python",
   "name": "python",
   "nbconvert_exporter": "python",
   "pygments_lexer": "ipython3",
   "version": "3.6.2"
  }
 },
 "nbformat": 4,
 "nbformat_minor": 2
}
